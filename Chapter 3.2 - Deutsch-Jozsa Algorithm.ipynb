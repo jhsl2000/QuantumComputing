{
 "cells": [
  {
   "cell_type": "code",
   "execution_count": 8,
   "id": "b8de5257",
   "metadata": {},
   "outputs": [],
   "source": [
    "# initialization\n",
    "import numpy as np\n",
    "\n",
    "# importing Qiskit\n",
    "from qiskit import IBMQ, Aer\n",
    "from qiskit.providers.ibmq import least_busy\n",
    "from qiskit import QuantumCircuit, assemble, transpile\n",
    "\n",
    "# import basic plot tools\n",
    "from qiskit.visualization import plot_histogram"
   ]
  },
  {
   "cell_type": "code",
   "execution_count": 9,
   "id": "137c362e",
   "metadata": {},
   "outputs": [],
   "source": [
    "# set the length of the n-bit input string. \n",
    "n = 3"
   ]
  },
  {
   "cell_type": "markdown",
   "id": "8905e238",
   "metadata": {},
   "source": [
    "Constant Oracle "
   ]
  },
  {
   "cell_type": "code",
   "execution_count": 10,
   "id": "15d67bda",
   "metadata": {},
   "outputs": [
    {
     "data": {
      "text/html": [
       "<pre style=\"word-wrap: normal;white-space: pre;background: #fff0;line-height: 1.1;font-family: &quot;Courier New&quot;,Courier,monospace\">     \n",
       "q_0: \n",
       "     \n",
       "q_1: \n",
       "     \n",
       "q_2: \n",
       "     \n",
       "q_3: \n",
       "     </pre>"
      ],
      "text/plain": [
       "     \n",
       "q_0: \n",
       "     \n",
       "q_1: \n",
       "     \n",
       "q_2: \n",
       "     \n",
       "q_3: \n",
       "     "
      ]
     },
     "execution_count": 10,
     "metadata": {},
     "output_type": "execute_result"
    }
   ],
   "source": [
    "# set the length of the n-bit input string. \n",
    "n = 3\n",
    "\n",
    "const_oracle = QuantumCircuit(n+1)\n",
    "\n",
    "output = np.random.randint(2)\n",
    "if output == 1:\n",
    "    const_oracle.x(n)\n",
    "\n",
    "const_oracle.draw()"
   ]
  },
  {
   "cell_type": "code",
   "execution_count": 11,
   "id": "60ac4c60",
   "metadata": {},
   "outputs": [],
   "source": [
    "balanced_oracle = QuantumCircuit(n+1)"
   ]
  },
  {
   "cell_type": "code",
   "execution_count": 12,
   "id": "4f4edab2",
   "metadata": {},
   "outputs": [],
   "source": [
    "b_str = \"101\""
   ]
  },
  {
   "cell_type": "code",
   "execution_count": 13,
   "id": "eb2354a9",
   "metadata": {},
   "outputs": [
    {
     "data": {
      "text/html": [
       "<pre style=\"word-wrap: normal;white-space: pre;background: #fff0;line-height: 1.1;font-family: &quot;Courier New&quot;,Courier,monospace\">     ┌───┐\n",
       "q_0: ┤ X ├\n",
       "     └───┘\n",
       "q_1: ─────\n",
       "     ┌───┐\n",
       "q_2: ┤ X ├\n",
       "     └───┘\n",
       "q_3: ─────\n",
       "          </pre>"
      ],
      "text/plain": [
       "     ┌───┐\n",
       "q_0: ┤ X ├\n",
       "     └───┘\n",
       "q_1: ─────\n",
       "     ┌───┐\n",
       "q_2: ┤ X ├\n",
       "     └───┘\n",
       "q_3: ─────\n",
       "          "
      ]
     },
     "execution_count": 13,
     "metadata": {},
     "output_type": "execute_result"
    }
   ],
   "source": [
    "balanced_oracle = QuantumCircuit(n+1)\n",
    "b_str = \"101\"\n",
    "\n",
    "# Place X-gates\n",
    "for qubit in range(len(b_str)):\n",
    "    if b_str[qubit] == '1':\n",
    "        balanced_oracle.x(qubit)\n",
    "balanced_oracle.draw()"
   ]
  },
  {
   "cell_type": "code",
   "execution_count": 17,
   "id": "90045492",
   "metadata": {},
   "outputs": [
    {
     "data": {
      "text/html": [
       "<pre style=\"word-wrap: normal;white-space: pre;background: #fff0;line-height: 1.1;font-family: &quot;Courier New&quot;,Courier,monospace\">     ┌───┐ ░                 ░ \n",
       "q_0: ┤ X ├─░───■─────────────░─\n",
       "     └───┘ ░   │             ░ \n",
       "q_1: ──────░───┼────■────────░─\n",
       "     ┌───┐ ░   │    │        ░ \n",
       "q_2: ┤ X ├─░───┼────┼────■───░─\n",
       "     └───┘ ░ ┌─┴─┐┌─┴─┐┌─┴─┐ ░ \n",
       "q_3: ──────░─┤ X ├┤ X ├┤ X ├─░─\n",
       "           ░ └───┘└───┘└───┘ ░ </pre>"
      ],
      "text/plain": [
       "     ┌───┐ ░                 ░ \n",
       "q_0: ┤ X ├─░───■─────────────░─\n",
       "     └───┘ ░   │             ░ \n",
       "q_1: ──────░───┼────■────────░─\n",
       "     ┌───┐ ░   │    │        ░ \n",
       "q_2: ┤ X ├─░───┼────┼────■───░─\n",
       "     └───┘ ░ ┌─┴─┐┌─┴─┐┌─┴─┐ ░ \n",
       "q_3: ──────░─┤ X ├┤ X ├┤ X ├─░─\n",
       "           ░ └───┘└───┘└───┘ ░ "
      ]
     },
     "execution_count": 17,
     "metadata": {},
     "output_type": "execute_result"
    }
   ],
   "source": [
    "balanced_oracle = QuantumCircuit(n+1)\n",
    "b_str = \"101\"\n",
    "\n",
    "# Place X-gates\n",
    "for qubit in range(len(b_str)):\n",
    "    if b_str[qubit] == '1':\n",
    "        balanced_oracle.x(qubit)\n",
    "\n",
    "# Use barrier as divider\n",
    "balanced_oracle.barrier()\n",
    "\n",
    "# Controlled-NOT gates\n",
    "for qubit in range(n):\n",
    "    balanced_oracle.cx(qubit, n)\n",
    "\n",
    "balanced_oracle.barrier()\n",
    "balanced_oracle.draw()"
   ]
  },
  {
   "cell_type": "code",
   "execution_count": 14,
   "id": "c7e4e0b7",
   "metadata": {},
   "outputs": [
    {
     "data": {
      "text/html": [
       "<pre style=\"word-wrap: normal;white-space: pre;background: #fff0;line-height: 1.1;font-family: &quot;Courier New&quot;,Courier,monospace\">     ┌───┐ ░                 ░ ┌───┐\n",
       "q_0: ┤ X ├─░───■─────────────░─┤ X ├\n",
       "     └───┘ ░   │             ░ └───┘\n",
       "q_1: ──────░───┼────■────────░──────\n",
       "     ┌───┐ ░   │    │        ░ ┌───┐\n",
       "q_2: ┤ X ├─░───┼────┼────■───░─┤ X ├\n",
       "     └───┘ ░ ┌─┴─┐┌─┴─┐┌─┴─┐ ░ └───┘\n",
       "q_3: ──────░─┤ X ├┤ X ├┤ X ├─░──────\n",
       "           ░ └───┘└───┘└───┘ ░      </pre>"
      ],
      "text/plain": [
       "     ┌───┐ ░                 ░ ┌───┐\n",
       "q_0: ┤ X ├─░───■─────────────░─┤ X ├\n",
       "     └───┘ ░   │             ░ └───┘\n",
       "q_1: ──────░───┼────■────────░──────\n",
       "     ┌───┐ ░   │    │        ░ ┌───┐\n",
       "q_2: ┤ X ├─░───┼────┼────■───░─┤ X ├\n",
       "     └───┘ ░ ┌─┴─┐┌─┴─┐┌─┴─┐ ░ └───┘\n",
       "q_3: ──────░─┤ X ├┤ X ├┤ X ├─░──────\n",
       "           ░ └───┘└───┘└───┘ ░      "
      ]
     },
     "execution_count": 14,
     "metadata": {},
     "output_type": "execute_result"
    }
   ],
   "source": [
    "balanced_oracle = QuantumCircuit(n+1)\n",
    "b_str = \"101\"\n",
    "\n",
    "# Place X-gates\n",
    "for qubit in range(len(b_str)):\n",
    "    if b_str[qubit] == '1':\n",
    "        balanced_oracle.x(qubit)\n",
    "\n",
    "# Use barrier as divider\n",
    "balanced_oracle.barrier()\n",
    "\n",
    "# Controlled-NOT gates\n",
    "for qubit in range(n):\n",
    "    balanced_oracle.cx(qubit, n)\n",
    "\n",
    "balanced_oracle.barrier()\n",
    "\n",
    "# Place X-gates\n",
    "for qubit in range(len(b_str)):\n",
    "    if b_str[qubit] == '1':\n",
    "        balanced_oracle.x(qubit)\n",
    "\n",
    "# Show oracle\n",
    "balanced_oracle.draw()"
   ]
  },
  {
   "cell_type": "markdown",
   "id": "fba50b25",
   "metadata": {},
   "source": [
    "Full Algorithm"
   ]
  },
  {
   "cell_type": "code",
   "execution_count": 15,
   "id": "10adda86",
   "metadata": {},
   "outputs": [
    {
     "data": {
      "text/html": [
       "<pre style=\"word-wrap: normal;white-space: pre;background: #fff0;line-height: 1.1;font-family: &quot;Courier New&quot;,Courier,monospace\">     ┌───┐     \n",
       "q_0: ┤ H ├─────\n",
       "     ├───┤     \n",
       "q_1: ┤ H ├─────\n",
       "     ├───┤     \n",
       "q_2: ┤ H ├─────\n",
       "     ├───┤┌───┐\n",
       "q_3: ┤ X ├┤ H ├\n",
       "     └───┘└───┘\n",
       "c: 3/══════════\n",
       "               </pre>"
      ],
      "text/plain": [
       "     ┌───┐     \n",
       "q_0: ┤ H ├─────\n",
       "     ├───┤     \n",
       "q_1: ┤ H ├─────\n",
       "     ├───┤     \n",
       "q_2: ┤ H ├─────\n",
       "     ├───┤┌───┐\n",
       "q_3: ┤ X ├┤ H ├\n",
       "     └───┘└───┘\n",
       "c: 3/══════════\n",
       "               "
      ]
     },
     "execution_count": 15,
     "metadata": {},
     "output_type": "execute_result"
    }
   ],
   "source": [
    "dj_circuit = QuantumCircuit(n+1, n)\n",
    "\n",
    "# Apply H-gates\n",
    "for qubit in range(n):\n",
    "    dj_circuit.h(qubit)\n",
    "\n",
    "# Put qubit in state |->\n",
    "dj_circuit.x(n)\n",
    "dj_circuit.h(n)\n",
    "dj_circuit.draw()"
   ]
  },
  {
   "cell_type": "code",
   "execution_count": 16,
   "id": "75b1ff8d",
   "metadata": {},
   "outputs": [
    {
     "name": "stderr",
     "output_type": "stream",
     "text": [
      "<ipython-input-16-0228702ca776>:12: DeprecationWarning: The QuantumCircuit.__iadd__() method is being deprecated. Use the compose() (potentially with the inplace=True argument) and tensor() methods which are more flexible w.r.t circuit register compatibility.\n",
      "  dj_circuit += balanced_oracle\n",
      "/Users/joselourenco/opt/anaconda3/lib/python3.8/site-packages/qiskit/circuit/quantumcircuit.py:942: DeprecationWarning: The QuantumCircuit.extend() method is being deprecated. Use the compose() (potentially with the inplace=True argument) and tensor() methods which are more flexible w.r.t circuit register compatibility.\n",
      "  return self.extend(rhs)\n"
     ]
    },
    {
     "data": {
      "text/html": [
       "<pre style=\"word-wrap: normal;white-space: pre;background: #fff0;line-height: 1.1;font-family: &quot;Courier New&quot;,Courier,monospace\">     ┌───┐┌───┐ ░                 ░ ┌───┐\n",
       "q_0: ┤ H ├┤ X ├─░───■─────────────░─┤ X ├\n",
       "     ├───┤└───┘ ░   │             ░ └───┘\n",
       "q_1: ┤ H ├──────░───┼────■────────░──────\n",
       "     ├───┤┌───┐ ░   │    │        ░ ┌───┐\n",
       "q_2: ┤ H ├┤ X ├─░───┼────┼────■───░─┤ X ├\n",
       "     ├───┤├───┤ ░ ┌─┴─┐┌─┴─┐┌─┴─┐ ░ └───┘\n",
       "q_3: ┤ X ├┤ H ├─░─┤ X ├┤ X ├┤ X ├─░──────\n",
       "     └───┘└───┘ ░ └───┘└───┘└───┘ ░      \n",
       "c: 3/════════════════════════════════════\n",
       "                                         </pre>"
      ],
      "text/plain": [
       "     ┌───┐┌───┐ ░                 ░ ┌───┐\n",
       "q_0: ┤ H ├┤ X ├─░───■─────────────░─┤ X ├\n",
       "     ├───┤└───┘ ░   │             ░ └───┘\n",
       "q_1: ┤ H ├──────░───┼────■────────░──────\n",
       "     ├───┤┌───┐ ░   │    │        ░ ┌───┐\n",
       "q_2: ┤ H ├┤ X ├─░───┼────┼────■───░─┤ X ├\n",
       "     ├───┤├───┤ ░ ┌─┴─┐┌─┴─┐┌─┴─┐ ░ └───┘\n",
       "q_3: ┤ X ├┤ H ├─░─┤ X ├┤ X ├┤ X ├─░──────\n",
       "     └───┘└───┘ ░ └───┘└───┘└───┘ ░      \n",
       "c: 3/════════════════════════════════════\n",
       "                                         "
      ]
     },
     "execution_count": 16,
     "metadata": {},
     "output_type": "execute_result"
    }
   ],
   "source": [
    "dj_circuit = QuantumCircuit(n+1, n)\n",
    "\n",
    "# Apply H-gates\n",
    "for qubit in range(n):\n",
    "    dj_circuit.h(qubit)\n",
    "\n",
    "# Put qubit in state |->\n",
    "dj_circuit.x(n)\n",
    "dj_circuit.h(n)\n",
    "\n",
    "# Add oracle\n",
    "dj_circuit += balanced_oracle\n",
    "dj_circuit.draw()"
   ]
  },
  {
   "cell_type": "code",
   "execution_count": 17,
   "id": "6078a2ef",
   "metadata": {},
   "outputs": [
    {
     "data": {
      "text/html": [
       "<pre style=\"word-wrap: normal;white-space: pre;background: #fff0;line-height: 1.1;font-family: &quot;Courier New&quot;,Courier,monospace\">     ┌───┐┌───┐ ░                 ░ ┌───┐┌───┐ ░ ┌─┐      \n",
       "q_0: ┤ H ├┤ X ├─░───■─────────────░─┤ X ├┤ H ├─░─┤M├──────\n",
       "     ├───┤└───┘ ░   │             ░ ├───┤└───┘ ░ └╥┘┌─┐   \n",
       "q_1: ┤ H ├──────░───┼────■────────░─┤ H ├──────░──╫─┤M├───\n",
       "     ├───┤┌───┐ ░   │    │        ░ ├───┤┌───┐ ░  ║ └╥┘┌─┐\n",
       "q_2: ┤ H ├┤ X ├─░───┼────┼────■───░─┤ X ├┤ H ├─░──╫──╫─┤M├\n",
       "     ├───┤├───┤ ░ ┌─┴─┐┌─┴─┐┌─┴─┐ ░ └───┘└───┘ ░  ║  ║ └╥┘\n",
       "q_3: ┤ X ├┤ H ├─░─┤ X ├┤ X ├┤ X ├─░────────────░──╫──╫──╫─\n",
       "     └───┘└───┘ ░ └───┘└───┘└───┘ ░            ░  ║  ║  ║ \n",
       "c: 3/═════════════════════════════════════════════╩══╩══╩═\n",
       "                                                  0  1  2 </pre>"
      ],
      "text/plain": [
       "     ┌───┐┌───┐ ░                 ░ ┌───┐┌───┐ ░ ┌─┐      \n",
       "q_0: ┤ H ├┤ X ├─░───■─────────────░─┤ X ├┤ H ├─░─┤M├──────\n",
       "     ├───┤└───┘ ░   │             ░ ├───┤└───┘ ░ └╥┘┌─┐   \n",
       "q_1: ┤ H ├──────░───┼────■────────░─┤ H ├──────░──╫─┤M├───\n",
       "     ├───┤┌───┐ ░   │    │        ░ ├───┤┌───┐ ░  ║ └╥┘┌─┐\n",
       "q_2: ┤ H ├┤ X ├─░───┼────┼────■───░─┤ X ├┤ H ├─░──╫──╫─┤M├\n",
       "     ├───┤├───┤ ░ ┌─┴─┐┌─┴─┐┌─┴─┐ ░ └───┘└───┘ ░  ║  ║ └╥┘\n",
       "q_3: ┤ X ├┤ H ├─░─┤ X ├┤ X ├┤ X ├─░────────────░──╫──╫──╫─\n",
       "     └───┘└───┘ ░ └───┘└───┘└───┘ ░            ░  ║  ║  ║ \n",
       "c: 3/═════════════════════════════════════════════╩══╩══╩═\n",
       "                                                  0  1  2 "
      ]
     },
     "execution_count": 17,
     "metadata": {},
     "output_type": "execute_result"
    }
   ],
   "source": [
    "dj_circuit = QuantumCircuit(n+1, n)\n",
    "\n",
    "# Apply H-gates\n",
    "for qubit in range(n):\n",
    "    dj_circuit.h(qubit)\n",
    "\n",
    "# Put qubit in state |->\n",
    "dj_circuit.x(n)\n",
    "dj_circuit.h(n)\n",
    "\n",
    "# Add oracle\n",
    "dj_circuit += balanced_oracle\n",
    "\n",
    "# Repeat H-gates\n",
    "for qubit in range(n):\n",
    "    dj_circuit.h(qubit)\n",
    "dj_circuit.barrier()\n",
    "\n",
    "# Measure\n",
    "for i in range(n):\n",
    "    dj_circuit.measure(i, i)\n",
    "\n",
    "# Display circuit\n",
    "dj_circuit.draw()"
   ]
  },
  {
   "cell_type": "code",
   "execution_count": 18,
   "id": "282a5869",
   "metadata": {},
   "outputs": [
    {
     "name": "stderr",
     "output_type": "stream",
     "text": [
      "/Users/joselourenco/opt/anaconda3/lib/python3.8/site-packages/qiskit/utils/deprecation.py:62: DeprecationWarning: Using a qobj for run() is deprecated as of qiskit-aer 0.9.0 and will be removed no sooner than 3 months from that release date. Transpiled circuits should now be passed directly using `backend.run(circuits, **run_options).\n",
      "  return func(*args, **kwargs)\n"
     ]
    },
    {
     "data": {
      "image/png": "[encoded data removed]",
      "text/plain": [
       "<Figure size 504x360 with 1 Axes>"
      ]
     },
     "execution_count": 18,
     "metadata": {},
     "output_type": "execute_result"
    }
   ],
   "source": [
    "# use local simulator\n",
    "aer_sim = Aer.get_backend('aer_simulator')\n",
    "qobj = assemble(dj_circuit, aer_sim)\n",
    "results = aer_sim.run(qobj).result()\n",
    "answer = results.get_counts()\n",
    "\n",
    "plot_histogram(answer)"
   ]
  },
  {
   "cell_type": "markdown",
   "id": "ae421c95",
   "metadata": {},
   "source": [
    "### RUN 1"
   ]
  },
  {
   "cell_type": "code",
   "execution_count": 19,
   "id": "34afa6b2",
   "metadata": {},
   "outputs": [
    {
     "name": "stdout",
     "output_type": "stream",
     "text": [
      "least busy backend:  ibmq_quito\n"
     ]
    }
   ],
   "source": [
    "# Load our saved IBMQ accounts and get the least busy backend device with greater than or equal to (n+1) qubits\n",
    "IBMQ.load_account()\n",
    "provider = IBMQ.get_provider(hub='ibm-q')\n",
    "backend = least_busy(provider.backends(filters=lambda x: x.configuration().n_qubits >= (n+1) and\n",
    "                                   not x.configuration().simulator and x.status().operational==True))\n",
    "print(\"least busy backend: \", backend)"
   ]
  },
  {
   "cell_type": "code",
   "execution_count": 20,
   "id": "1f6ae81d",
   "metadata": {},
   "outputs": [
    {
     "name": "stdout",
     "output_type": "stream",
     "text": [
      "Job Status: job has successfully run\n"
     ]
    }
   ],
   "source": [
    "# Run our circuit on the least busy backend. Monitor the execution of the job in the queue\n",
    "from qiskit.tools.monitor import job_monitor\n",
    "\n",
    "transpiled_dj_circuit = transpile(dj_circuit, backend, optimization_level=3)\n",
    "job = backend.run(transpiled_dj_circuit)\n",
    "job_monitor(job, interval=2)"
   ]
  },
  {
   "cell_type": "code",
   "execution_count": 21,
   "id": "55afb70e",
   "metadata": {},
   "outputs": [
    {
     "data": {
      "image/png": "[encoded data removed]",
      "text/plain": [
       "<Figure size 504x360 with 1 Axes>"
      ]
     },
     "execution_count": 21,
     "metadata": {},
     "output_type": "execute_result"
    }
   ],
   "source": [
    "# Get the results of the computation\n",
    "results = job.result()\n",
    "answer = results.get_counts()\n",
    "\n",
    "plot_histogram(answer)"
   ]
  },
  {
   "cell_type": "code",
   "execution_count": 29,
   "id": "2dd2d32a",
   "metadata": {},
   "outputs": [
    {
     "name": "stdout",
     "output_type": "stream",
     "text": [
      "This backend is called ibmq_quito, and is on version 1.1.18. It has 5 qubits. It does not support OpenPulse programs. The basis gates supported on this device are ['id', 'rz', 'sx', 'x', 'cx', 'reset'].\n"
     ]
    }
   ],
   "source": [
    "config = backend.configuration()\n",
    "\n",
    "# Basic Features\n",
    "print(\"This backend is called {0}, and is on version {1}. It has {2} qubit{3}. It \"\n",
    "      \"{4} OpenPulse programs. The basis gates supported on this device are {5}.\"\n",
    "      \"\".format(config.backend_name,\n",
    "                config.backend_version,\n",
    "                config.n_qubits,\n",
    "                '' if config.n_qubits == 1 else 's',\n",
    "                'supports' if config.open_pulse else 'does not support',\n",
    "                config.basis_gates))\n"
   ]
  },
  {
   "cell_type": "markdown",
   "id": "c72f5869",
   "metadata": {},
   "source": [
    "### RUN 2"
   ]
  },
  {
   "cell_type": "code",
   "execution_count": 23,
   "id": "c12f97b5",
   "metadata": {},
   "outputs": [
    {
     "name": "stderr",
     "output_type": "stream",
     "text": [
      "ibmqfactory.load_account:WARNING:2021-11-23 16:42:12,199: Credentials are already in use. The existing account in the session will be replaced.\n"
     ]
    },
    {
     "name": "stdout",
     "output_type": "stream",
     "text": [
      "least busy backend:  ibmq_quito\n"
     ]
    }
   ],
   "source": [
    "# Load our saved IBMQ accounts and get the least busy backend device with greater than or equal to (n+1) qubits\n",
    "IBMQ.load_account()\n",
    "provider = IBMQ.get_provider(hub='ibm-q')\n",
    "backend = least_busy(provider.backends(filters=lambda x: x.configuration().n_qubits >= (n+1) and\n",
    "                                   not x.configuration().simulator and x.status().operational==True))\n",
    "print(\"least busy backend: \", backend)"
   ]
  },
  {
   "cell_type": "code",
   "execution_count": 24,
   "id": "972108dc",
   "metadata": {},
   "outputs": [
    {
     "name": "stdout",
     "output_type": "stream",
     "text": [
      "Job Status: job has successfully run\n"
     ]
    }
   ],
   "source": [
    "# Run our circuit on the least busy backend. Monitor the execution of the job in the queue\n",
    "from qiskit.tools.monitor import job_monitor\n",
    "\n",
    "transpiled_dj_circuit = transpile(dj_circuit, backend, optimization_level=3)\n",
    "job = backend.run(transpiled_dj_circuit)\n",
    "job_monitor(job, interval=2)"
   ]
  },
  {
   "cell_type": "code",
   "execution_count": 25,
   "id": "8b32e7ab",
   "metadata": {},
   "outputs": [
    {
     "data": {
      "image/png": "[encoded data removed]",
      "text/plain": [
       "<Figure size 504x360 with 1 Axes>"
      ]
     },
     "execution_count": 25,
     "metadata": {},
     "output_type": "execute_result"
    }
   ],
   "source": [
    "# Get the results of the computation\n",
    "results = job.result()\n",
    "answer = results.get_counts()\n",
    "\n",
    "plot_histogram(answer)"
   ]
  },
  {
   "cell_type": "code",
   "execution_count": null,
   "id": "ff568de2",
   "metadata": {},
   "outputs": [],
   "source": []
  }
 ],
 "metadata": {
  "kernelspec": {
   "display_name": "Python 3",
   "language": "python",
   "name": "python3"
  },
  "language_info": {
   "codemirror_mode": {
    "name": "ipython",
    "version": 3
   },
   "file_extension": ".py",
   "mimetype": "text/x-python",
   "name": "python",
   "nbconvert_exporter": "python",
   "pygments_lexer": "ipython3",
   "version": "3.8.8"
  }
 },
 "nbformat": 4,
 "nbformat_minor": 5
}
